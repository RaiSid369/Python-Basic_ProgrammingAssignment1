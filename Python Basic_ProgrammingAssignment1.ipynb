{
 "cells": [
  {
   "cell_type": "code",
   "execution_count": 1,
   "id": "faff90c4",
   "metadata": {},
   "outputs": [],
   "source": [
    "# 1. Write a Python program to print \"Hello Python\"."
   ]
  },
  {
   "cell_type": "code",
   "execution_count": 2,
   "id": "e8ae606d",
   "metadata": {},
   "outputs": [
    {
     "name": "stdout",
     "output_type": "stream",
     "text": [
      "Hello Python\n"
     ]
    }
   ],
   "source": [
    "print(\"Hello Python\")"
   ]
  },
  {
   "cell_type": "code",
   "execution_count": 3,
   "id": "50121e42",
   "metadata": {},
   "outputs": [],
   "source": [
    "# 2. Write a Python program to do arithmetical operations addition and division."
   ]
  },
  {
   "cell_type": "code",
   "execution_count": 4,
   "id": "a3d655ce",
   "metadata": {},
   "outputs": [
    {
     "name": "stdout",
     "output_type": "stream",
     "text": [
      "Sum of a and b is = 340\n",
      "Division of a with b is = 16.0\n"
     ]
    }
   ],
   "source": [
    "#2. Write a Python program to do arithmetical operations addition and division.\n",
    "a = 320\n",
    "b = 20\n",
    "print(\"Sum of a and b is =\", a+b)\n",
    "print(\"Division of a with b is =\", a/b)"
   ]
  },
  {
   "cell_type": "code",
   "execution_count": 5,
   "id": "d9f2426f",
   "metadata": {},
   "outputs": [],
   "source": [
    "#3. Write a Python program to find the area of a triangle."
   ]
  },
  {
   "cell_type": "code",
   "execution_count": 6,
   "id": "a89c7dc5",
   "metadata": {},
   "outputs": [
    {
     "name": "stdout",
     "output_type": "stream",
     "text": [
      "Base of triangle =55\n",
      "Height of triangle =55.95645\n",
      "Area of triangle = 1539\n"
     ]
    }
   ],
   "source": [
    "b = float(input(\"Base of triangle =\"))\n",
    "h = float(input(\"Height of triangle =\"))\n",
    "print(\"Area of triangle =\", round(0.5*b*h))"
   ]
  },
  {
   "cell_type": "code",
   "execution_count": 7,
   "id": "cfc7b221",
   "metadata": {},
   "outputs": [],
   "source": [
    "#4. Write a Python program to swap two variables."
   ]
  },
  {
   "cell_type": "code",
   "execution_count": 8,
   "id": "1b31513e",
   "metadata": {},
   "outputs": [
    {
     "name": "stdout",
     "output_type": "stream",
     "text": [
      "The value of 'S' after the swap is : 10\n",
      "The value of 'I' after the swap is : Sid\n"
     ]
    }
   ],
   "source": [
    "S = \"Sid\"\n",
    "I = 10\n",
    "Temporary = S\n",
    "S = I\n",
    "I = Temporary\n",
    "print(\"The value of 'S' after the swap is :\", S)\n",
    "print(\"The value of 'I' after the swap is :\", I)"
   ]
  },
  {
   "cell_type": "code",
   "execution_count": 9,
   "id": "98206145",
   "metadata": {},
   "outputs": [],
   "source": [
    "# 5. Write a Python program to generate a random number."
   ]
  },
  {
   "cell_type": "code",
   "execution_count": 10,
   "id": "0ae4ecf0",
   "metadata": {},
   "outputs": [
    {
     "name": "stdout",
     "output_type": "stream",
     "text": [
      "38\n"
     ]
    }
   ],
   "source": [
    "import random\n",
    "print(random.randint(0,100))"
   ]
  },
  {
   "cell_type": "code",
   "execution_count": null,
   "id": "762597ff",
   "metadata": {},
   "outputs": [],
   "source": []
  }
 ],
 "metadata": {
  "kernelspec": {
   "display_name": "Python 3 (ipykernel)",
   "language": "python",
   "name": "python3"
  },
  "language_info": {
   "codemirror_mode": {
    "name": "ipython",
    "version": 3
   },
   "file_extension": ".py",
   "mimetype": "text/x-python",
   "name": "python",
   "nbconvert_exporter": "python",
   "pygments_lexer": "ipython3",
   "version": "3.9.12"
  }
 },
 "nbformat": 4,
 "nbformat_minor": 5
}
